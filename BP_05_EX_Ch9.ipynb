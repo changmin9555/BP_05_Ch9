{
  "nbformat": 4,
  "nbformat_minor": 0,
  "metadata": {
    "colab": {
      "provenance": []
    },
    "kernelspec": {
      "name": "python3",
      "display_name": "Python 3"
    },
    "language_info": {
      "name": "python"
    }
  },
  "cells": [
    {
      "cell_type": "markdown",
      "source": [
        "1.사용자로부터 5개의 숫자를 읽어서 리스트에 저장하고 숫자들의 평균을 계산하여 출력하는 프로그램을 작성해보자."
      ],
      "metadata": {
        "id": "WEdPIWGgY-q2"
      }
    },
    {
      "cell_type": "code",
      "execution_count": 5,
      "metadata": {
        "colab": {
          "base_uri": "https://localhost:8080/"
        },
        "id": "hFUnnjhTYo5-",
        "outputId": "d5330efb-5c81-4115-e6ee-c5e2c5959a12"
      },
      "outputs": [
        {
          "output_type": "stream",
          "name": "stdout",
          "text": [
            "정수를 입력하시오: 10\n",
            "정수를 입력하시오: 20\n",
            "정수를 입력하시오: 30\n",
            "정수를 입력하시오: 40\n",
            "정수를 입력하시오: 50\n",
            "평균= 30.0\n"
          ]
        }
      ],
      "source": [
        "\\alist = []\n",
        "sum = 0\n",
        "for i in range(5):\n",
        " i = int(input(\"정수를 입력하시오: \"))\n",
        " alist.append(i)\n",
        "for i in alist:\n",
        " sum += i\n",
        "avg = sum/len(alist)\n",
        "print(\"평균=\", avg)"
      ]
    },
    {
      "cell_type": "markdown",
      "source": [
        "2.주사위를 던져서 나오는 값들의 빈도를 계산하는 프로그램을 작성해보자.즉 1,2,3,4,5,6 의 값이 각각 몇번이나 나오는지를 계싼한다.난수 발생함수와 리스트를 사용해 보자."
      ],
      "metadata": {
        "id": "nSfCuQwnY_Tp"
      }
    },
    {
      "cell_type": "code",
      "source": [
        "import random\n",
        "counters = [0, 0, 0, 0, 0, 0]\n",
        "\n",
        "for i in range(1000):\n",
        "       value = random.randint(0, 5)\n",
        "       counters[value] = counters[value] + 1\n",
        "\n",
        "for i in range(6) :\n",
        "       print(\"주사위가 \", i+1, \"인 경우는 \", counters[i], \"번\")"
      ],
      "metadata": {
        "colab": {
          "base_uri": "https://localhost:8080/"
        },
        "id": "1SjWwpawY2vn",
        "outputId": "8a657ed0-646d-4177-feea-9d75ab4e193b"
      },
      "execution_count": 4,
      "outputs": [
        {
          "output_type": "stream",
          "name": "stdout",
          "text": [
            "주사위가  1 인 경우는  182 번\n",
            "주사위가  2 인 경우는  167 번\n",
            "주사위가  3 인 경우는  163 번\n",
            "주사위가  4 인 경우는  145 번\n",
            "주사위가  5 인 경우는  170 번\n",
            "주사위가  6 인 경우는  173 번\n"
          ]
        }
      ]
    },
    {
      "cell_type": "markdown",
      "source": [
        "3.딕셔너리를 사용하여서 친구들의 이름과 전화번호를 저장해보자.사용자로부터 친구들의 이름과 전화번호를 입력받고 딕셔너리에 저장한다.이름을 입력하지 않고 엔터키를 치면 검색모드가 된다.검색모드에서는 친구들의 이름으로 전화번호를 검색할수 있도록 한다."
      ],
      "metadata": {
        "id": "PuTO3zvUY_HD"
      }
    },
    {
      "cell_type": "code",
      "source": [
        "contacts = { }\n",
        "\n",
        "while True:\n",
        "      name = input(\"(입력모드)이름을 입력하시오: \")\n",
        "      if not name:\n",
        "            break;\n",
        "      tel = input(\"전화번호를 입력하시오: \")\n",
        "      contacts[name] = tel\n",
        "\n",
        "while True:\n",
        "      name = input(\"(검색모드)이름을 입력하시오: \")\n",
        "      if not name:\n",
        "             break;\n",
        "\n",
        "      if name in contacts :\n",
        "              print(name, \"의 전화번호는\", contacts[name], \"입니다.\")"
      ],
      "metadata": {
        "colab": {
          "base_uri": "https://localhost:8080/",
          "height": 555
        },
        "id": "Rn7fv86vY3Ad",
        "outputId": "1e155519-6a88-401c-ceed-1d2a5f3e335f"
      },
      "execution_count": 3,
      "outputs": [
        {
          "output_type": "stream",
          "name": "stdout",
          "text": [
            "(입력모드)이름을 입력하시오: 남도헌\n",
            "전화번호를 입력하시오: 01012345678\n",
            "(입력모드)이름을 입력하시오: 남도헌\n",
            "전화번호를 입력하시오: 01012345678\n",
            "(입력모드)이름을 입력하시오: \n",
            "(검색모드)이름을 입력하시오: 남도헌\n",
            "남도헌 의 전화번호는 01012345678 입니다.\n"
          ]
        },
        {
          "output_type": "error",
          "ename": "KeyboardInterrupt",
          "evalue": "ignored",
          "traceback": [
            "\u001b[0;31m---------------------------------------------------------------------------\u001b[0m",
            "\u001b[0;31mKeyboardInterrupt\u001b[0m                         Traceback (most recent call last)",
            "\u001b[0;32m<ipython-input-3-17345b9b481a>\u001b[0m in \u001b[0;36m<module>\u001b[0;34m\u001b[0m\n\u001b[1;32m      9\u001b[0m \u001b[0;34m\u001b[0m\u001b[0m\n\u001b[1;32m     10\u001b[0m \u001b[0;32mwhile\u001b[0m \u001b[0;32mTrue\u001b[0m\u001b[0;34m:\u001b[0m\u001b[0;34m\u001b[0m\u001b[0;34m\u001b[0m\u001b[0m\n\u001b[0;32m---> 11\u001b[0;31m       \u001b[0mname\u001b[0m \u001b[0;34m=\u001b[0m \u001b[0minput\u001b[0m\u001b[0;34m(\u001b[0m\u001b[0;34m\"(검색모드)이름을 입력하시오: \"\u001b[0m\u001b[0;34m)\u001b[0m\u001b[0;34m\u001b[0m\u001b[0;34m\u001b[0m\u001b[0m\n\u001b[0m\u001b[1;32m     12\u001b[0m       \u001b[0;32mif\u001b[0m \u001b[0;32mnot\u001b[0m \u001b[0mname\u001b[0m\u001b[0;34m:\u001b[0m\u001b[0;34m\u001b[0m\u001b[0;34m\u001b[0m\u001b[0m\n\u001b[1;32m     13\u001b[0m              \u001b[0;32mbreak\u001b[0m\u001b[0;34m;\u001b[0m\u001b[0;34m\u001b[0m\u001b[0;34m\u001b[0m\u001b[0m\n",
            "\u001b[0;32m/usr/local/lib/python3.7/dist-packages/ipykernel/kernelbase.py\u001b[0m in \u001b[0;36mraw_input\u001b[0;34m(self, prompt)\u001b[0m\n\u001b[1;32m    861\u001b[0m             \u001b[0mself\u001b[0m\u001b[0;34m.\u001b[0m\u001b[0m_parent_ident\u001b[0m\u001b[0;34m,\u001b[0m\u001b[0;34m\u001b[0m\u001b[0;34m\u001b[0m\u001b[0m\n\u001b[1;32m    862\u001b[0m             \u001b[0mself\u001b[0m\u001b[0;34m.\u001b[0m\u001b[0m_parent_header\u001b[0m\u001b[0;34m,\u001b[0m\u001b[0;34m\u001b[0m\u001b[0;34m\u001b[0m\u001b[0m\n\u001b[0;32m--> 863\u001b[0;31m             \u001b[0mpassword\u001b[0m\u001b[0;34m=\u001b[0m\u001b[0;32mFalse\u001b[0m\u001b[0;34m,\u001b[0m\u001b[0;34m\u001b[0m\u001b[0;34m\u001b[0m\u001b[0m\n\u001b[0m\u001b[1;32m    864\u001b[0m         )\n\u001b[1;32m    865\u001b[0m \u001b[0;34m\u001b[0m\u001b[0m\n",
            "\u001b[0;32m/usr/local/lib/python3.7/dist-packages/ipykernel/kernelbase.py\u001b[0m in \u001b[0;36m_input_request\u001b[0;34m(self, prompt, ident, parent, password)\u001b[0m\n\u001b[1;32m    902\u001b[0m             \u001b[0;32mexcept\u001b[0m \u001b[0mKeyboardInterrupt\u001b[0m\u001b[0;34m:\u001b[0m\u001b[0;34m\u001b[0m\u001b[0;34m\u001b[0m\u001b[0m\n\u001b[1;32m    903\u001b[0m                 \u001b[0;31m# re-raise KeyboardInterrupt, to truncate traceback\u001b[0m\u001b[0;34m\u001b[0m\u001b[0;34m\u001b[0m\u001b[0;34m\u001b[0m\u001b[0m\n\u001b[0;32m--> 904\u001b[0;31m                 \u001b[0;32mraise\u001b[0m \u001b[0mKeyboardInterrupt\u001b[0m\u001b[0;34m(\u001b[0m\u001b[0;34m\"Interrupted by user\"\u001b[0m\u001b[0;34m)\u001b[0m \u001b[0;32mfrom\u001b[0m \u001b[0;32mNone\u001b[0m\u001b[0;34m\u001b[0m\u001b[0;34m\u001b[0m\u001b[0m\n\u001b[0m\u001b[1;32m    905\u001b[0m             \u001b[0;32mexcept\u001b[0m \u001b[0mException\u001b[0m \u001b[0;32mas\u001b[0m \u001b[0me\u001b[0m\u001b[0;34m:\u001b[0m\u001b[0;34m\u001b[0m\u001b[0;34m\u001b[0m\u001b[0m\n\u001b[1;32m    906\u001b[0m                 \u001b[0mself\u001b[0m\u001b[0;34m.\u001b[0m\u001b[0mlog\u001b[0m\u001b[0;34m.\u001b[0m\u001b[0mwarning\u001b[0m\u001b[0;34m(\u001b[0m\u001b[0;34m\"Invalid Message:\"\u001b[0m\u001b[0;34m,\u001b[0m \u001b[0mexc_info\u001b[0m\u001b[0;34m=\u001b[0m\u001b[0;32mTrue\u001b[0m\u001b[0;34m)\u001b[0m\u001b[0;34m\u001b[0m\u001b[0;34m\u001b[0m\u001b[0m\n",
            "\u001b[0;31mKeyboardInterrupt\u001b[0m: Interrupted by user"
          ]
        }
      ]
    },
    {
      "cell_type": "markdown",
      "source": [
        "4.색상을 리스트에 저장한다.리스트에 저장된 색상을 하나씩 꺼내어 거북이의 색상으로 설정하면서 속이 채워진 사각형을 그리는 프로그램을 작성해보자.\n",
        "\n"
      ],
      "metadata": {
        "id": "5H5styCdY-JV"
      }
    },
    {
      "cell_type": "code",
      "source": [
        "import turtle\n",
        "import random\n",
        "t = turtle.Turtle()\n",
        "\n",
        "t.shape(\"turtle\")\n",
        "def draw_square(x, y, c):\n",
        "    t.up()\n",
        "    t.goto(x, y)\n",
        "    t.down()\n",
        "    t.color(\"black\",c)\n",
        "    t.begin_fill()\n",
        "    t.forward(100)\n",
        "    t.left(90)\n",
        "    t.forward(100)\n",
        "    t.left(90)\n",
        "    t.forward(100)\n",
        "    t.left(90)\n",
        "    t.forward(100)\n",
        "    t.left(90)\n",
        "    t.end_fill()\n",
        "\n",
        "for c in [\"yellow\", \"red\", \"purple\", \"blue\"]:\n",
        "    x = random.randint(-100, 100)\n",
        "    y = random.randint(-100, 100)\n",
        "    draw_square(x, y, c)"
      ],
      "metadata": {
        "id": "JTd9n80oY3ff"
      },
      "execution_count": null,
      "outputs": []
    },
    {
      "cell_type": "markdown",
      "source": [
        "5.색상을 리스트에 저장한다.리스트에 저장된 색상을 하나씩 꺼내어 거북이의 색상으로 설정하면서 속이 채워진 다각형을 그리는 프로그램을 작성해보자.\n",
        "\n"
      ],
      "metadata": {
        "id": "8eeOb1xJY98k"
      }
    },
    {
      "cell_type": "code",
      "source": [
        "import turtle\n",
        "import random\n",
        "\n",
        "t = turtle.Turtle()\n",
        "s = turtle.Screen()\n",
        "\n",
        "def draw_shape(t, c, length, sides, x, y):\n",
        "    t.up()\n",
        "    t.goto(x, y)\n",
        "    t.down()\n",
        "    t.fillcolor(c)\n",
        "    angle = 360.0 / sides\n",
        "    t.begin_fill()\n",
        "    for dist in range(sides):\n",
        "       t.forward(length)\n",
        "       t.left(angle)\n",
        "    t.end_fill()\n",
        "    \n",
        "for i in range(10):\n",
        "    color = random.choice([ 'white', 'yellow', 'blue', 'skyblue', 'orange', 'green' ])\n",
        "    side_length = random.randint(10, 100)\n",
        "    sides = random.randint(3, 10)\n",
        "    x = random.randint(-200, 200)\n",
        "    y = random.randint(-200, 200)\n",
        "    draw_shape(t, color, side_length, sides, x, y)"
      ],
      "metadata": {
        "id": "HYy5a575Y3u8"
      },
      "execution_count": null,
      "outputs": []
    },
    {
      "cell_type": "markdown",
      "source": [
        "6.색상을 리스트에 저장한다.리스트에 저장된 색상을 하나씩 꺼내어 거북이의 색상으로 설정하면서 속이 채워진 별을 랜덤한 위치에 그리는 프로그램을 작성해보자."
      ],
      "metadata": {
        "id": "4s-xSfiGY9yY"
      }
    },
    {
      "cell_type": "code",
      "source": [
        "import turtle\n",
        "import random\n",
        "\n",
        "t = turtle.Turtle()\n",
        "s = turtle.Screen()\n",
        "s.bgcolor(\"black\")\n",
        "\n",
        "def draw_star(aturtle, colour, side_length, x, y):\n",
        "    aturtle.color(colour)\n",
        "    aturtle.begin_fill()\n",
        "    aturtle.penup()\n",
        "    aturtle.goto(x, y)\n",
        "    aturtle.pendown()\n",
        "    for i in range(5):\n",
        "        aturtle.forward(side_length)\n",
        "        aturtle.right(144)\n",
        "        aturtle.forward(side_length)\n",
        "        aturtle.end_fill()\n",
        "\n",
        "for i in range(20):\n",
        "   color = random.choice([ 'white', 'yellow', 'blue', 'skyblue', 'orange', 'green' ])\n",
        "   side_length = random.randint(10, 100)\n",
        "   x = random.randint(-200, 200)\n",
        "   y = random.randint(-200, 200)\n",
        "   draw_star(t, color, side_length, x, y)"
      ],
      "metadata": {
        "id": "_yKsYuL1Y3-p"
      },
      "execution_count": null,
      "outputs": []
    },
    {
      "cell_type": "markdown",
      "source": [
        "7.인터넷 도매인의 약자와 해당하는 국가를 딕셔너리에 저장해보자. 예를 들어서 \"kr\"은 대한민국으로 저장되어야 한다.딕셔너리를 순회하면서 모든 키와 값을 출력하는 프로그램을 작성해보자."
      ],
      "metadata": {
        "id": "tqYBDEoUY9jM"
      }
    },
    {
      "cell_type": "code",
      "source": [
        "domain={\"kr\":\"대한민국\",\"sk\":\"슬로바키아\",\"no\":\"노르웨이\",\"us\":\"미국\",\"jp\":\"일본\",\"de\":\"독일\"}\n",
        "for k,v in domain.items():\n",
        "    print(k,\":\",v)"
      ],
      "metadata": {
        "id": "CPw3VBHNY4Nj"
      },
      "execution_count": null,
      "outputs": []
    },
    {
      "cell_type": "markdown",
      "source": [
        "8.딕셔너리에 문제와 정답을 저장하고 하나씩 꺼내서 사용자에게 제시하는 프로그램을 작성해보자.사용자는 문자열로 답해야 한다.번호로 답할수는 없다."
      ],
      "metadata": {
        "id": "fZzXYAvoY9R1"
      }
    },
    {
      "cell_type": "code",
      "source": [
        "problems={\"파이썬\":\"최근에 가장떠오르는 프로그래밍 언어\",\"변수\":\"데이터를 저장하는 메모리 공간\",\"함수\":\"작업을 수행하는 문장들의 집합에 이름을 붙인 것\",\"리스트\":\"서로 관련이 없는 항목들의 모임\"}\n",
        "for k,v in problems.items():\n",
        "    print(v)\n",
        "    print(\"다음은 어떤 단어에 대한 설명일까요?\")\n",
        "    print(\"(1)파이썬 (2)함수 (3)리스트 (4)변수\")\n",
        "    ans=input()\n",
        "    if ans==k:\n",
        "        print(\"정답입니다!\")\n",
        "    else:\n",
        "        print(\"틀렸습니다\")"
      ],
      "metadata": {
        "colab": {
          "base_uri": "https://localhost:8080/"
        },
        "id": "6psOnMUjY80g",
        "outputId": "3ebac3d6-4bab-4d1f-9939-360cb3b1b4de"
      },
      "execution_count": 1,
      "outputs": [
        {
          "output_type": "stream",
          "name": "stdout",
          "text": [
            "최근에 가장떠오르는 프로그래밍 언어\n",
            "다음은 어떤 단어에 대한 설명일까요?\n",
            "(1)파이썬 (2)함수 (3)리스트 (4)변수\n",
            "파이썬\n",
            "정답입니다!\n",
            "데이터를 저장하는 메모리 공간\n",
            "다음은 어떤 단어에 대한 설명일까요?\n",
            "(1)파이썬 (2)함수 (3)리스트 (4)변수\n",
            "리스트\n",
            "틀렸습니다\n",
            "작업을 수행하는 문장들의 집합에 이름을 붙인 것\n",
            "다음은 어떤 단어에 대한 설명일까요?\n",
            "(1)파이썬 (2)함수 (3)리스트 (4)변수\n",
            "함수\n",
            "정답입니다!\n",
            "서로 관련이 없는 항목들의 모임\n",
            "다음은 어떤 단어에 대한 설명일까요?\n",
            "(1)파이썬 (2)함수 (3)리스트 (4)변수\n",
            "리스트\n",
            "정답입니다!\n"
          ]
        }
      ]
    }
  ]
}